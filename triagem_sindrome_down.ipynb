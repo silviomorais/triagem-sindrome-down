{
  "nbformat": 4,
  "nbformat_minor": 0,
  "metadata": {
    "colab": {
      "provenance": [],
      "authorship_tag": "ABX9TyOTHBO2q/69o4n2rSlgd21j",
      "include_colab_link": true
    },
    "kernelspec": {
      "name": "python3",
      "display_name": "Python 3"
    },
    "language_info": {
      "name": "python"
    }
  },
  "cells": [
    {
      "cell_type": "markdown",
      "metadata": {
        "id": "view-in-github",
        "colab_type": "text"
      },
      "source": [
        "<a href=\"https://colab.research.google.com/github/silviomorais/triagem-sindrome-down/blob/main/triagem_sindrome_down.ipynb\" target=\"_parent\"><img src=\"https://colab.research.google.com/assets/colab-badge.svg\" alt=\"Open In Colab\"/></a>"
      ]
    },
    {
      "cell_type": "code",
      "source": [
        "# Instalação de Bibliotecas\n",
        "!pip install -q google-genai google-adk scikit-learn"
      ],
      "metadata": {
        "id": "YN5YOeS716dD"
      },
      "execution_count": 12,
      "outputs": []
    },
    {
      "cell_type": "code",
      "source": [
        "# Configura a API Key do Google Gemini\n",
        "\n",
        "import os\n",
        "from google.colab import userdata\n",
        "\n",
        "os.environ[\"GOOGLE_API_KEY\"] = userdata.get('GOOGLE_API_KEY')"
      ],
      "metadata": {
        "id": "nsLyel1P19nU"
      },
      "execution_count": 13,
      "outputs": []
    },
    {
      "cell_type": "code",
      "source": [
        "# Importações\n",
        "from google import genai\n",
        "from google.adk.agents import Agent\n",
        "from google.adk.runners import Runner\n",
        "from google.adk.sessions import InMemorySessionService\n",
        "from google.genai import types\n",
        "import numpy as np\n",
        "import pandas as pd\n",
        "from sklearn.model_selection import train_test_split\n",
        "from sklearn.ensemble import RandomForestClassifier\n",
        "from sklearn.metrics import classification_report\n",
        "import warnings\n",
        "warnings.filterwarnings(\"ignore\")"
      ],
      "metadata": {
        "id": "zMwjAI2P2Lyi"
      },
      "execution_count": 15,
      "outputs": []
    },
    {
      "cell_type": "code",
      "source": [
        "# Configura o cliente da SDK do Gemini\n",
        "\n",
        "from google import genai\n",
        "\n",
        "client = genai.Client()\n",
        "\n",
        "MODEL_ID = \"gemini-2.0-flash\""
      ],
      "metadata": {
        "id": "DJ9Ygb0c2V4E"
      },
      "execution_count": 17,
      "outputs": []
    },
    {
      "cell_type": "code",
      "source": [
        "# Funções Auxiliares (como no exemplo)\n",
        "def call_agent(agent: Agent, message_text: str) -> str:\n",
        "    session_service = InMemorySessionService()\n",
        "    session = session_service.create_session(app_name=agent.name, user_id=\"user1\", session_id=\"session1\")\n",
        "    runner = Runner(agent=agent, app_name=agent.name, session_service=session_service)\n",
        "    content = types.Content(role=\"user\", parts=[types.Part(text=message_text)])\n",
        "\n",
        "    final_response = \"\"\n",
        "    for event in runner.run(user_id=\"user1\", session_id=\"session1\", new_message=content):\n",
        "        if event.is_final_response():\n",
        "          for part in event.content.parts:\n",
        "            if part.text is not None:\n",
        "              final_response += part.text\n",
        "              final_response += \"\\n\"\n",
        "    return final_response\n",
        "\n",
        "from IPython.display import Markdown\n",
        "import textwrap\n",
        "\n",
        "def to_markdown(text):\n",
        "  text = text.replace('•', '  *')\n",
        "  return Markdown(textwrap.indent(text, '> ', predicate=lambda _: True))"
      ],
      "metadata": {
        "id": "o9-i223d2iY8"
      },
      "execution_count": 18,
      "outputs": []
    },
    {
      "cell_type": "code",
      "source": [
        "# Agente de IA 1\n",
        "def agente_coletor_dados(dados):\n",
        "    coletor = Agent(\n",
        "        name=\"agente_coletor_dados\",\n",
        "        model=MODEL_ID,\n",
        "        description=\"Agente que coleta dados de testes.\",\n",
        "        instruction=\"Você é um coletor de dados. Sua tarefa é organizar os dados dos testes em um formato adequado para análise.\",\n",
        "    )\n",
        "    entrada = f\"Dados dos testes: {dados}\"\n",
        "    return call_agent(coletor, entrada)"
      ],
      "metadata": {
        "id": "ln9xV3Yf2qg1"
      },
      "execution_count": 21,
      "outputs": []
    },
    {
      "cell_type": "code",
      "source": [
        "# Agente de IA 2\n",
        "def agente_analista_dados(dados_coletados):\n",
        "    analista = Agent(\n",
        "        name=\"agente_analista_dados\",\n",
        "        model=MODEL_ID,\n",
        "        description=\"Agente que analisa dados.\",\n",
        "        instruction=\"Você é um analista de dados. Analise os dados fornecidos para identificar padrões relevantes para a Síndrome de Down.\",\n",
        "    )\n",
        "    entrada = f\"Dados coletados: {dados_coletados}\"\n",
        "    return call_agent(analista, entrada)"
      ],
      "metadata": {
        "id": "vF1yEL-k2tC1"
      },
      "execution_count": 22,
      "outputs": []
    },
    {
      "cell_type": "code",
      "source": [
        "# Agente de IA 3\n",
        "def agente_avaliador_risco(analise):\n",
        "    avaliador = Agent(\n",
        "        name=\"agente_avaliador_risco\",\n",
        "        model=MODEL_ID,\n",
        "        description=\"Agente que avalia o risco.\",\n",
        "        instruction=\"Você é um avaliador de risco. Com base na análise, determine o nível de risco de Síndrome de Down (baixo, médio, alto).\",\n",
        "    )\n",
        "    entrada = f\"Análise dos dados: {analise}\"\n",
        "    return call_agent(avaliador, entrada)"
      ],
      "metadata": {
        "id": "t5Ul0yiA20Fm"
      },
      "execution_count": 23,
      "outputs": []
    },
    {
      "cell_type": "code",
      "source": [
        "# Agente de IA 4\n",
        "def agente_relator(avaliacao_risco):\n",
        "    relator = Agent(\n",
        "        name=\"agente_relator\",\n",
        "        model=MODEL_ID,\n",
        "        description=\"Agente que gera relatórios.\",\n",
        "        instruction=\"Você é um gerador de relatórios. Crie um relatório claro e conciso com a avaliação de risco e recomendações.\",\n",
        "    )\n",
        "    entrada = f\"Avaliação de risco: {avaliacao_risco}\"\n",
        "    relatorio = call_agent(relator, entrada)\n",
        "    # Adicionando a declaração importante\n",
        "    declaracao = \"\\n\\nIMPORTANTE: Este relatório é resultado de um desenvolvimento estudantil e pesquisa de desenvolvimento de software. Não deve ser considerado como laudo médico e não tem qualquer valor para iniciar ou modificar um tratamento. Recomenda-se a consulta com especialistas da área médica para avaliação e orientação adequadas.\"\n",
        "    return relatorio + declaracao"
      ],
      "metadata": {
        "id": "DN91byOj248n"
      },
      "execution_count": 24,
      "outputs": []
    },
    {
      "cell_type": "code",
      "source": [
        "# Função Principal\n",
        "def avaliar_risco_sindrome_down(dados_testes):\n",
        "    dados_coletados = agente_coletor_dados(dados_testes)\n",
        "    analise = agente_analista_dados(dados_coletados)\n",
        "    avaliacao_risco = agente_avaliador_risco(analise)\n",
        "    relatorio = agente_relator(avaliacao_risco)\n",
        "    return relatorio"
      ],
      "metadata": {
        "id": "q7UCN8gF28ZJ"
      },
      "execution_count": 25,
      "outputs": []
    },
    {
      "cell_type": "code",
      "source": [
        "def coletar_dados_usuario():\n",
        "    \"\"\"Coleta os dados do usuário com validação.\"\"\"\n",
        "\n",
        "    dados = {}\n",
        "\n",
        "    try:\n",
        "        dados[\"idade_mae\"] = int(input(\"Digite a idade da mãe: \"))\n",
        "        if dados[\"idade_mae\"] < 15 or dados[\"idade_mae\"] > 50:  # Limite de idade razoável\n",
        "            raise ValueError(\"Idade da mãe fora do intervalo esperado.\")\n",
        "\n",
        "        dados[\"translucencia_nucal\"] = float(input(\"Digite a translucência nucal (em mm): \"))\n",
        "        if dados[\"translucencia_nucal\"] < 0 or dados[\"translucencia_nucal\"] > 10:  # Limites razoáveis\n",
        "            raise ValueError(\"Translucência nucal fora do intervalo esperado.\")\n",
        "\n",
        "        dados[\"ossonasal_presente\"] = input(\"O osso nasal está presente? (sim/não): \").lower() == \"sim\"\n",
        "\n",
        "        dados[\"frequencia_cardiaca_fetal\"] = int(input(\"Digite a frequência cardíaca fetal (bpm): \"))\n",
        "        if dados[\"frequencia_cardiaca_fetal\"] < 100 or dados[\"frequencia_cardiaca_fetal\"] > 200:  # Limites\n",
        "            raise ValueError(\"Frequência cardíaca fetal fora do intervalo esperado.\")\n",
        "\n",
        "        dados[\"comprimento_cabeca_nadega\"] = float(input(\"Digite o comprimento cabeça-nádega (em mm): \"))\n",
        "        if dados[\"comprimento_cabeca_nadega\"] < 40 or dados[\"comprimento_cabeca_nadega\"] > 84:\n",
        "            raise ValueError(\"Comprimento cabeça-nádega fora do intervalo esperado.\")\n",
        "\n",
        "    except ValueError as e:\n",
        "        print(f\"Erro: {e}\")\n",
        "        return None  # Indica que a coleta falhou\n",
        "\n",
        "    return dados"
      ],
      "metadata": {
        "id": "5g8frZcW40IK"
      },
      "execution_count": 27,
      "outputs": []
    },
    {
      "cell_type": "code",
      "source": [
        "# Exemplo de Uso\n",
        "print(\"Bem-vindo ao Sistema de Avaliação de Risco de Síndrome de Down\")\n",
        "dados_testes = coletar_dados_usuario()\n",
        "\n",
        "if dados_testes:\n",
        "    relatorio = avaliar_risco_sindrome_down(dados_testes)\n",
        "    print(\"\\nRelatório de Avaliação:\")\n",
        "    print(relatorio)\n",
        "else:\n",
        "    print(\"\\nNão foi possível gerar o relatório devido a erros na entrada.\")"
      ],
      "metadata": {
        "colab": {
          "base_uri": "https://localhost:8080/"
        },
        "id": "IEks32YI3CqQ",
        "outputId": "4de05d64-8420-407e-d491-e41873901503"
      },
      "execution_count": 31,
      "outputs": [
        {
          "output_type": "stream",
          "name": "stdout",
          "text": [
            "Bem-vindo ao Sistema de Avaliação de Risco de Síndrome de Down\n",
            "Digite a idade da mãe: 23\n",
            "Digite a translucência nucal (em mm): 1.0\n",
            "O osso nasal está presente? (sim/não): Não\n",
            "Digite a frequência cardíaca fetal (bpm): 165\n",
            "Digite o comprimento cabeça-nádega (em mm): 45\n",
            "\n",
            "Relatório de Avaliação:\n",
            "## Relatório de Avaliação de Risco\n",
            "\n",
            "**Classificação do Risco:** Médio\n",
            "\n",
            "**Recomendações:**\n",
            "\n",
            "Devido à classificação de risco médio, recomenda-se as seguintes ações:\n",
            "\n",
            "1.  **Monitoramento Contínuo:** Implementar um sistema de monitoramento contínuo para acompanhar a evolução do risco e identificar potenciais mudanças.\n",
            "\n",
            "2.  **Implementação de Medidas de Mitigação:** Desenvolver e implementar medidas de mitigação específicas para reduzir a probabilidade de ocorrência do risco e/ou o impacto caso ele ocorra.\n",
            "\n",
            "3.  **Revisão Periódica:** Realizar revisões periódicas da avaliação de risco e das medidas de mitigação implementadas para garantir sua eficácia e adequação. A frequência das revisões deve ser determinada com base na natureza do risco e na dinâmica do ambiente.\n",
            "\n",
            "4.  **Plano de Contingência:** Desenvolver um plano de contingência detalhado que descreva as ações a serem tomadas caso o risco se concretize. O plano deve incluir responsáveis, recursos necessários e procedimentos claros para minimizar os danos.\n",
            "\n",
            "5.  **Comunicação:** Manter comunicação aberta e transparente com as partes interessadas sobre a natureza do risco, as medidas de mitigação implementadas e o plano de contingência.\n",
            "\n",
            "6.  **Treinamento:** Realizar treinamentos regulares com os colaboradores envolvidos para garantir que eles compreendam os riscos, as medidas de mitigação e os procedimentos a serem seguidos em caso de emergência.\n",
            "\n",
            "**Observações:**\n",
            "\n",
            "A implementação destas recomendações visa reduzir a probabilidade e o impacto do risco identificado, minimizando potenciais perdas e garantindo a continuidade das operações. É fundamental o acompanhamento e a adaptação contínua das medidas de mitigação para garantir sua efetividade ao longo do tempo.\n",
            "\n",
            "\n"
          ]
        }
      ]
    }
  ]
}